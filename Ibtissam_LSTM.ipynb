{
 "cells": [
  {
   "cell_type": "markdown",
   "metadata": {
    "colab": {
     "base_uri": "https://localhost:8080/"
    },
    "id": "PLiG993Yxx3G",
    "outputId": "db87c969-dea7-4532-eff7-07ee16d589b6"
   },
   "source": [
    "# Ibtissam's LSTM-Attention Model"
   ]
  },
  {
   "cell_type": "markdown",
   "metadata": {
    "colab": {
     "base_uri": "https://localhost:8080/"
    },
    "id": "PLiG993Yxx3G",
    "outputId": "db87c969-dea7-4532-eff7-07ee16d589b6"
   },
   "source": [
    "## **Acknowledgment**"
   ]
  },
  {
   "cell_type": "markdown",
   "metadata": {
    "colab": {
     "base_uri": "https://localhost:8080/"
    },
    "id": "PLiG993Yxx3G",
    "outputId": "db87c969-dea7-4532-eff7-07ee16d589b6"
   },
   "source": [
    "This notebook contains the implementation of Ibtissam's **LSTM-Attention Model** for **Credit Card Fraud Detection**, based on the paper *\"Enhanced credit card fraud detection based on attention mechanism and LSTM deep model\" (2021)*. The original implementation has been modified and enhanced to better serve the specific requirements of this XAI-focused study project.\n",
    "\n",
    "The model leverages attention mechanisms to focus on the most relevant transaction features while using LSTM architecture to capture sequential patterns in transaction data, significantly improving fraud detection accuracy compared to traditional methods.\n",
    "\n",
    "- **Run live notebook:** [![Binder](https://mybinder.org/badge_logo.svg)](https://mybinder.org/v2/gh/ThongLai/Credit-Card-Transaction-Fraud-Detection-Using-Explainable-AI/main?urlpath=%2Fdoc%2Ftree%2FIbtissam_LSTM.ipynb)\n",
    "- **Original source:** [*LSTM-Attention model.ipynb*](https://github.com/bibtissam/LSTM-Attention-FraudDetection/blob/main/LSTM-Attention%20model.ipynb)\n",
    "- **Model's Article:** [*\"Enhanced credit card fraud detection based on attention mechanism and LSTM deep model\", 2021*](https://doi.org/10.1186/s40537-021-00541-8)"
   ]
  },
  {
   "cell_type": "markdown",
   "metadata": {},
   "source": [
    "## Global Setting Variables"
   ]
  },
  {
   "cell_type": "code",
   "execution_count": 30,
   "metadata": {},
   "outputs": [],
   "source": [
    "LASTEST_MODEL_NAME = 'model_2_Ibtissam_LSTM_acc98'\n",
    "MODEL_PATH = 'architectures/'\n",
    "DATA_PATH = 'data/'\n",
    "VISUALISATION_PATH = 'visualisation/'\n",
    "NEW_MODEL = True\n",
    "PERFORM_TRAINING = True\n",
    "SAVE_MODEL = True\n",
    "RANDOM_SEED = 42 # Set to `None` for the generator uses the current system time."
   ]
  },
  {
   "cell_type": "markdown",
   "metadata": {},
   "source": [
    "## Importing the necessary packages"
   ]
  },
  {
   "cell_type": "code",
   "execution_count": 2,
   "metadata": {},
   "outputs": [],
   "source": [
    "# If you are running on `Binder`, then it is no need to set up the packages again\n",
    "# %pip install -r requirements.txt\n",
    "\n",
    "# ---OR---\n",
    "\n",
    "# %pip install tensorflow==2.10.1 numpy==1.26.4 pandas scikit-learn matplotlib requests"
   ]
  },
  {
   "cell_type": "code",
   "execution_count": 3,
   "metadata": {},
   "outputs": [
    {
     "name": "stdout",
     "output_type": "stream",
     "text": [
      "Python Version: `3.10.11 (tags/v3.10.11:7d4cc5a, Apr  5 2023, 00:38:17) [MSC v.1929 64 bit (AMD64)]`\n",
      "Base Python location: `C:\\Users\\LMT\\AppData\\Local\\Programs\\Python\\Python310`\n",
      "Current Environment location: `.venv_xai_fraud_detection`\n",
      "\n",
      "Tensorflow version: `2.10.1`\n",
      "CUDNN version: `64_8`\n",
      "CUDA version: `64_112`\n",
      "Num GPUs Available: 1\n"
     ]
    }
   ],
   "source": [
    "import pandas as pd\n",
    "import numpy as np\n",
    "from sklearn.metrics import classification_report, confusion_matrix, accuracy_score\n",
    "\n",
    "import tensorflow as tf\n",
    "from tensorflow.keras.layers import Lambda, LSTM, Dense, Embedding, Dropout,Input, Attention, Layer, Concatenate, Permute, Dot, Multiply, Flatten\n",
    "from tensorflow.keras import backend as K, regularizers, Model, metrics\n",
    "\n",
    "import matplotlib.pyplot as plt\n",
    "import seaborn as sns\n",
    "plt.interactive(True)\n",
    "sns.set(rc={'figure.figsize':(13.7,8.27)})\n",
    "# plt.rcdefaults()  # Reset to default plot settings\n",
    "\n",
    "import os\n",
    "import utils\n",
    "from collections import Counter\n",
    "import itertools\n",
    "\n",
    "np.random.seed(RANDOM_SEED)"
   ]
  },
  {
   "cell_type": "markdown",
   "metadata": {},
   "source": [
    "## Getting Relevant Data"
   ]
  },
  {
   "cell_type": "markdown",
   "metadata": {
    "jp-MarkdownHeadingCollapsed": true
   },
   "source": [
    "### Download dataset"
   ]
  },
  {
   "cell_type": "code",
   "execution_count": 4,
   "metadata": {},
   "outputs": [
    {
     "name": "stdout",
     "output_type": "stream",
     "text": [
      "URL: https://www.kaggle.com/api/v1/datasets/download/kartik2112/fraud-detection/fraudTrain.csv\n",
      "File `data/fraudTrain.csv` already exists.\n",
      "URL: https://www.kaggle.com/api/v1/datasets/download/kartik2112/fraud-detection/fraudTest.csv\n",
      "File `data/fraudTest.csv` already exists.\n"
     ]
    }
   ],
   "source": [
    "utils.download_dataset_from_kaggle('fraudTrain.csv')\n",
    "utils.download_dataset_from_kaggle('fraudTest.csv')"
   ]
  },
  {
   "cell_type": "markdown",
   "metadata": {},
   "source": [
    "### Read data"
   ]
  },
  {
   "cell_type": "code",
   "execution_count": 5,
   "metadata": {},
   "outputs": [],
   "source": [
    "data_train = pd.read_csv(os.path.join(DATA_PATH, 'fraudTrain.csv'), index_col=0)\n",
    "data_test = pd.read_csv(os.path.join(DATA_PATH, 'fraudTest.csv'), index_col=0)"
   ]
  },
  {
   "cell_type": "markdown",
   "metadata": {},
   "source": [
    "## Feature Engineering"
   ]
  },
  {
   "cell_type": "code",
   "execution_count": 6,
   "metadata": {},
   "outputs": [
    {
     "name": "stdout",
     "output_type": "stream",
     "text": [
      "Counter({0: 1289169, 1: 7506})\n"
     ]
    }
   ],
   "source": [
    "# Generate and plot imbalanced classification dataset\n",
    "# summarize class distribution\n",
    "counter = Counter(data_train['is_fraud'])\n",
    "print(counter)\n",
    "# scatter plot of examples by class label\n",
    "for label, _ in counter.items():\n",
    "\trow_ix = np.where(data_train['is_fraud'] == label)[0]"
   ]
  },
  {
   "cell_type": "code",
   "execution_count": 7,
   "metadata": {},
   "outputs": [],
   "source": [
    "data_train = utils.feature_engineering(data_train)\n",
    "data_test = utils.feature_engineering(data_test)"
   ]
  },
  {
   "cell_type": "markdown",
   "metadata": {},
   "source": [
    "## Feature Description Table"
   ]
  },
  {
   "cell_type": "markdown",
   "metadata": {},
   "source": [
    "| **Field Name**   | **Description**                                                             |\n",
    "|------------------|-----------------------------------------------------------------------------|\n",
    "| **merchant**     | Name of merchant where transaction occurred (e.g., *Starbucks*)             |\n",
    "| **category**     | Category of merchant (e.g., *retail*, *food*, etc.)                         |\n",
    "| **amt**          | Amount of transaction (e.g., *$25.50*)                                      |\n",
    "| **gender**       | Gender of credit card holder (e.g., *Male*, *Female*)                       |\n",
    "| **lat**          | Latitude location of credit card holder (e.g., *34.0522*)                   |\n",
    "| **long**         | Longitude location of credit card holder (e.g., *-118.2437*)                |\n",
    "| **city_pop**     | Population of credit card holder's city (e.g., *4000000*)                   |\n",
    "| **merch_lat**    | Latitude location of merchant (e.g., *34.0522*)                             |\n",
    "| **merch_long**   | Longitude location of merchant (e.g., *-118.2437*)                          |\n",
    "| **age**          | Age of credit card holder (derived from dob, e.g., *28*)                    |\n",
    "| **age_group**    | Age group category of credit card holder (e.g., *20-29*, *30-39*)           |\n",
    "| **dist**         | Distance between merchant and card holder locations (e.g., *5.2 miles*)     |\n",
    "| **hour**         | Hour of day when transaction occurred (e.g., *14*)                          |\n",
    "| **day_of_week**  | Day of the week when transaction occurred (e.g., *Monday*)                  |\n",
    "| **month**        | Month when transaction occurred (e.g., *April*)                             |"
   ]
  },
  {
   "cell_type": "markdown",
   "metadata": {},
   "source": [
    "## Pre-processing"
   ]
  },
  {
   "cell_type": "code",
   "execution_count": 8,
   "metadata": {
    "id": "t7l5EpLY0IqL"
   },
   "outputs": [
    {
     "name": "stdout",
     "output_type": "stream",
     "text": [
      "Ordinal-Encoding is applied for `['merchant', 'category', 'gender', 'age_group', 'day_of_week']`\n",
      "SMOTE is applied\n"
     ]
    }
   ],
   "source": [
    "X_train, y_train, data_train, transformations = utils.pre_processing(data_train)"
   ]
  },
  {
   "cell_type": "code",
   "execution_count": 9,
   "metadata": {},
   "outputs": [
    {
     "data": {
      "text/plain": [
       "(2578338, 15)"
      ]
     },
     "execution_count": 9,
     "metadata": {},
     "output_type": "execute_result"
    }
   ],
   "source": [
    "X_train.shape"
   ]
  },
  {
   "cell_type": "code",
   "execution_count": 10,
   "metadata": {},
   "outputs": [
    {
     "name": "stdout",
     "output_type": "stream",
     "text": [
      "Ordinal-Encoding is applied for `['merchant', 'category', 'gender', 'age_group', 'day_of_week']`\n"
     ]
    }
   ],
   "source": [
    "X_test, y_test, data_test, _ = utils.pre_processing(data_test, transformations, isTestSet=True)"
   ]
  },
  {
   "cell_type": "code",
   "execution_count": 11,
   "metadata": {
    "colab": {
     "base_uri": "https://localhost:8080/"
    },
    "id": "4OaLUwRhPPhW",
    "outputId": "170cccab-ded4-4110-e701-3d103902a590"
   },
   "outputs": [
    {
     "data": {
      "text/plain": [
       "(555719, 15)"
      ]
     },
     "execution_count": 11,
     "metadata": {},
     "output_type": "execute_result"
    }
   ],
   "source": [
    "X_test.shape"
   ]
  },
  {
   "cell_type": "markdown",
   "metadata": {},
   "source": [
    "## Model Building"
   ]
  },
  {
   "cell_type": "code",
   "execution_count": 12,
   "metadata": {},
   "outputs": [],
   "source": [
    "class attention(Layer):\n",
    "    def __init__(self,**kwargs):\n",
    "        super(attention,self).__init__(**kwargs)\n",
    "\n",
    "    def build(self,input_shape):\n",
    "        self.W=self.add_weight(name=\"att_weight\",shape=(input_shape[-1],1),initializer=\"normal\")\n",
    "        self.b=self.add_weight(name=\"att_bias\",shape=(input_shape[1],1),initializer=\"zeros\")        \n",
    "        super(attention, self).build(input_shape)\n",
    "\n",
    "    def call(self,x):\n",
    "        et=K.squeeze(K.tanh(K.dot(x,self.W)+self.b),axis=-1)\n",
    "        at=K.softmax(et)\n",
    "        at=K.expand_dims(at,axis=-1)\n",
    "        output=x*at\n",
    "        return K.sum(output,axis=1)\n",
    "\n",
    "    def compute_output_shape(self,input_shape):\n",
    "        return (input_shape[0],input_shape[-1])\n",
    "\n",
    "    def get_config(self):\n",
    "        return super(attention,self).get_config()"
   ]
  },
  {
   "cell_type": "code",
   "execution_count": 13,
   "metadata": {},
   "outputs": [
    {
     "name": "stdout",
     "output_type": "stream",
     "text": [
      "WARNING:tensorflow:Layer lstm will not use cuDNN kernels since it doesn't meet the criteria. It will use a generic GPU kernel as fallback when running on GPU.\n",
      "WARNING:tensorflow:Layer lstm_1 will not use cuDNN kernels since it doesn't meet the criteria. It will use a generic GPU kernel as fallback when running on GPU.\n"
     ]
    }
   ],
   "source": [
    "if NEW_MODEL:\n",
    "    inputs = Input((X_train.shape[1],))  # Original 2D input (samples, features)\n",
    "    reshaped = Lambda(lambda x: tf.expand_dims(x, axis=1))(inputs)  # Add time dimension\n",
    "    att_in_1=LSTM(50, return_sequences=True, dropout=0.3, recurrent_dropout=0.2)(reshaped)\n",
    "    att_in_2=LSTM(50, return_sequences=True, dropout=0.3, recurrent_dropout=0.2)(att_in_1)\n",
    "    att_out=attention()(att_in_2)\n",
    "    outputs=Dense(1, activation='sigmoid', trainable=True)(att_out)\n",
    "    model=Model(inputs, outputs, name='model_2_Ibtissam_LSTM')\n",
    "else:\n",
    "    model = utils.load_models(LASTEST_MODEL_NAME) # Continue training previous trained model if needed"
   ]
  },
  {
   "cell_type": "code",
   "execution_count": 14,
   "metadata": {},
   "outputs": [
    {
     "name": "stdout",
     "output_type": "stream",
     "text": [
      "Model: \"model_2_Ibtissam_LSTM\"\n",
      "_________________________________________________________________\n",
      " Layer (type)                Output Shape              Param #   \n",
      "=================================================================\n",
      " input_1 (InputLayer)        [(None, 15)]              0         \n",
      "                                                                 \n",
      " lambda (Lambda)             (None, 1, 15)             0         \n",
      "                                                                 \n",
      " lstm (LSTM)                 (None, 1, 50)             13200     \n",
      "                                                                 \n",
      " lstm_1 (LSTM)               (None, 1, 50)             20200     \n",
      "                                                                 \n",
      " attention (attention)       (None, 50)                51        \n",
      "                                                                 \n",
      " dense (Dense)               (None, 1)                 51        \n",
      "                                                                 \n",
      "=================================================================\n",
      "Total params: 33,502\n",
      "Trainable params: 33,502\n",
      "Non-trainable params: 0\n",
      "_________________________________________________________________\n"
     ]
    }
   ],
   "source": [
    "model.summary()"
   ]
  },
  {
   "cell_type": "markdown",
   "metadata": {},
   "source": [
    "## Training"
   ]
  },
  {
   "cell_type": "code",
   "execution_count": 15,
   "metadata": {},
   "outputs": [
    {
     "name": "stdout",
     "output_type": "stream",
     "text": [
      "Epoch 1/100\n",
      "86/86 [==============================] - 12s 78ms/step - loss: 0.5835 - accuracy: 0.7076 - val_loss: 0.4307 - val_accuracy: 0.9555\n",
      "Epoch 2/100\n",
      "86/86 [==============================] - 6s 71ms/step - loss: 0.4743 - accuracy: 0.7821 - val_loss: 0.3458 - val_accuracy: 0.9626\n",
      "Epoch 3/100\n",
      "86/86 [==============================] - 6s 71ms/step - loss: 0.4344 - accuracy: 0.8075 - val_loss: 0.3031 - val_accuracy: 0.9670\n",
      "Epoch 4/100\n",
      "86/86 [==============================] - 7s 76ms/step - loss: 0.3959 - accuracy: 0.8266 - val_loss: 0.2429 - val_accuracy: 0.9731\n",
      "Epoch 5/100\n",
      "86/86 [==============================] - 6s 74ms/step - loss: 0.3662 - accuracy: 0.8446 - val_loss: 0.2019 - val_accuracy: 0.9754\n",
      "Epoch 6/100\n",
      "86/86 [==============================] - 6s 75ms/step - loss: 0.3445 - accuracy: 0.8576 - val_loss: 0.1774 - val_accuracy: 0.9763\n",
      "Epoch 7/100\n",
      "86/86 [==============================] - 7s 78ms/step - loss: 0.3277 - accuracy: 0.8656 - val_loss: 0.1643 - val_accuracy: 0.9794\n",
      "Epoch 8/100\n",
      "86/86 [==============================] - 7s 80ms/step - loss: 0.3142 - accuracy: 0.8714 - val_loss: 0.1513 - val_accuracy: 0.9813\n",
      "Epoch 9/100\n",
      "86/86 [==============================] - 7s 83ms/step - loss: 0.3025 - accuracy: 0.8766 - val_loss: 0.1426 - val_accuracy: 0.9812\n",
      "Epoch 10/100\n",
      "86/86 [==============================] - 7s 86ms/step - loss: 0.2930 - accuracy: 0.8805 - val_loss: 0.1413 - val_accuracy: 0.9795\n",
      "Epoch 11/100\n",
      "86/86 [==============================] - 8s 89ms/step - loss: 0.2846 - accuracy: 0.8833 - val_loss: 0.1378 - val_accuracy: 0.9775\n",
      "Epoch 12/100\n",
      "86/86 [==============================] - 7s 87ms/step - loss: 0.2763 - accuracy: 0.8864 - val_loss: 0.1325 - val_accuracy: 0.9769\n",
      "Epoch 13/100\n",
      "86/86 [==============================] - 7s 85ms/step - loss: 0.2673 - accuracy: 0.8905 - val_loss: 0.1228 - val_accuracy: 0.9776\n",
      "Epoch 14/100\n",
      "86/86 [==============================] - 8s 89ms/step - loss: 0.2602 - accuracy: 0.8938 - val_loss: 0.1155 - val_accuracy: 0.9775\n",
      "Epoch 15/100\n",
      "86/86 [==============================] - 7s 82ms/step - loss: 0.2533 - accuracy: 0.8973 - val_loss: 0.1138 - val_accuracy: 0.9766\n",
      "Epoch 16/100\n",
      "86/86 [==============================] - 7s 84ms/step - loss: 0.2476 - accuracy: 0.8998 - val_loss: 0.1145 - val_accuracy: 0.9755\n",
      "Epoch 17/100\n",
      "86/86 [==============================] - 8s 93ms/step - loss: 0.2424 - accuracy: 0.9025 - val_loss: 0.1125 - val_accuracy: 0.9758\n",
      "Epoch 18/100\n",
      "86/86 [==============================] - 8s 93ms/step - loss: 0.2372 - accuracy: 0.9049 - val_loss: 0.1150 - val_accuracy: 0.9743\n",
      "Epoch 19/100\n",
      "86/86 [==============================] - 9s 108ms/step - loss: 0.2328 - accuracy: 0.9070 - val_loss: 0.1153 - val_accuracy: 0.9736\n",
      "Epoch 20/100\n",
      "86/86 [==============================] - 9s 109ms/step - loss: 0.2283 - accuracy: 0.9089 - val_loss: 0.1128 - val_accuracy: 0.9741\n",
      "Epoch 21/100\n",
      "86/86 [==============================] - ETA: 0s - loss: 0.2241 - accuracy: 0.9108Restoring model weights from the end of the best epoch: 17.\n",
      "86/86 [==============================] - 8s 94ms/step - loss: 0.2241 - accuracy: 0.9108 - val_loss: 0.1160 - val_accuracy: 0.9724\n",
      "Epoch 21: early stopping\n"
     ]
    }
   ],
   "source": [
    "if PERFORM_TRAINING:\n",
    "    epochs = 100\n",
    "    batch_size=30000\n",
    "    \n",
    "    model.compile(loss='binary_crossentropy', optimizer='adam', metrics=['accuracy'])\n",
    "    \n",
    "    callback = tf.keras.callbacks.EarlyStopping(\n",
    "        monitor='val_loss',\n",
    "        min_delta=0,\n",
    "        patience=4,\n",
    "        verbose=1,\n",
    "        mode='auto',\n",
    "        baseline=None,\n",
    "        restore_best_weights=True\n",
    "    )\n",
    "    \n",
    "    history = model.fit(X_train, y_train, epochs=epochs, batch_size=batch_size, validation_data=(X_test, y_test), callbacks=[callback])"
   ]
  },
  {
   "cell_type": "markdown",
   "metadata": {},
   "source": [
    "## Learning Curve"
   ]
  },
  {
   "cell_type": "code",
   "execution_count": 29,
   "metadata": {},
   "outputs": [],
   "source": [
    "def plot_learningCurve(history, epoch):\n",
    "    # Plot training & validation accuracy values\n",
    "    epoch_range = range(1, epoch+1)\n",
    "    plt.plot(epoch_range, history.history['accuracy'])\n",
    "    plt.plot(epoch_range, history.history['val_accuracy'])\n",
    "    plt.title('Model accuracy')\n",
    "    plt.ylabel('Accuracy')\n",
    "    plt.xlabel('Epoch')\n",
    "    plt.legend(['Train', 'Val'], loc='upper left')\n",
    "    plt.savefig(os.path.join(VISUALISATION_PATH, \"LSTM_accuracy_training_curve.png\"), dpi=600, bbox_inches='tight')\n",
    "    plt.show()\n",
    "    \n",
    "    # Plot training & validation loss values\n",
    "    plt.plot(epoch_range, history.history['loss'])\n",
    "    plt.plot(epoch_range, history.history['val_loss'])\n",
    "    plt.title('Model loss')\n",
    "    plt.ylabel('Loss')\n",
    "    plt.xlabel('Epoch')\n",
    "    plt.legend(['Train', 'Val'], loc='upper left')\n",
    "    plt.savefig(os.path.join(VISUALISATION_PATH, \"LSTM_loss_training_curve.png\"), dpi=600, bbox_inches='tight')\n",
    "    plt.show()"
   ]
  },
  {
   "cell_type": "code",
   "execution_count": 20,
   "metadata": {},
   "outputs": [
    {
     "data": {
      "image/png": "[encoded data removed]",
      "text/plain": [
       "<Figure size 1370x827 with 1 Axes>"
      ]
     },
     "metadata": {},
     "output_type": "display_data"
    },
    {
     "data": {
      "image/png": "[encoded data removed]",
      "text/plain": [
       "<Figure size 1370x827 with 1 Axes>"
      ]
     },
     "metadata": {},
     "output_type": "display_data"
    }
   ],
   "source": [
    "if NEW_MODEL:\n",
    "    plot_learningCurve(history, len(history.epoch))"
   ]
  },
  {
   "cell_type": "markdown",
   "metadata": {},
   "source": [
    "## Predictions"
   ]
  },
  {
   "cell_type": "code",
   "execution_count": 21,
   "metadata": {
    "id": "lUAD5FIS3Z1I"
   },
   "outputs": [
    {
     "name": "stdout",
     "output_type": "stream",
     "text": [
      "17367/17367 [==============================] - 100s 6ms/step\n"
     ]
    }
   ],
   "source": [
    "# predict probabilities for test set\n",
    "y_predict = model.predict(X_test)\n",
    "y_predict_binary = np.round(y_predict).astype(int).squeeze()"
   ]
  },
  {
   "cell_type": "code",
   "execution_count": 22,
   "metadata": {},
   "outputs": [],
   "source": [
    "acc_postfix = f'_acc{accuracy_score(y_test, y_predict_binary)*100:.0f}'\n",
    "\n",
    "if model.name.find('_acc') != -1:\n",
    "    model._name = model.name[:model.name.find('_acc')] + acc_postfix\n",
    "else:\n",
    "    model._name = model.name + acc_postfix"
   ]
  },
  {
   "cell_type": "code",
   "execution_count": 32,
   "metadata": {},
   "outputs": [
    {
     "name": "stdout",
     "output_type": "stream",
     "text": [
      "\n",
      "[INFO] Saving model `model_2_Ibtissam_LSTM_acc98` predictions into `data/predictions.csv`...\n",
      "[INFO] Loaded `predictions.csv` file.\n",
      "[INFO] Saved model `model_2_Ibtissam_LSTM_acc98` predictions.\n"
     ]
    }
   ],
   "source": [
    "if SAVE_MODEL:\n",
    "    # Save predictions\n",
    "    utils.save_predictions(model.name, y_predict)"
   ]
  },
  {
   "cell_type": "code",
   "execution_count": 24,
   "metadata": {
    "colab": {
     "base_uri": "https://localhost:8080/",
     "height": 362
    },
    "id": "ZFXwEl17ES7A",
    "outputId": "92daea33-c2f5-4354-ee72-eb9e4759e176"
   },
   "outputs": [
    {
     "name": "stdout",
     "output_type": "stream",
     "text": [
      "Confusion matrix, without normalization\n",
      "[[540512  13062]\n",
      " [   397   1748]]\n"
     ]
    },
    {
     "data": {
      "image/png": "[encoded data removed]",
      "text/plain": [
       "<Figure size 1370x827 with 2 Axes>"
      ]
     },
     "metadata": {},
     "output_type": "display_data"
    }
   ],
   "source": [
    "def plot_confusion_matrix(cm, classes,\n",
    "                        normalize=False,\n",
    "                        title='Confusion matrix',\n",
    "                        cmap=plt.cm.Blues):\n",
    "    \"\"\"\n",
    "    This function prints and plots the confusion matrix.\n",
    "    Normalization can be applied by setting `normalize=True`.\n",
    "    \"\"\"\n",
    "    plt.imshow(cm, interpolation='nearest', cmap=cmap)\n",
    "    plt.title(title)\n",
    "    plt.colorbar()\n",
    "    tick_marks = np.arange(len(classes))\n",
    "    plt.xticks(tick_marks, classes, rotation=45)\n",
    "    plt.yticks(tick_marks, classes)\n",
    "\n",
    "    if normalize:\n",
    "        cm = cm.astype('float') / cm.sum(axis=1)[:, np.newaxis]\n",
    "        print(\"Normalized confusion matrix\")\n",
    "    else:\n",
    "        print('Confusion matrix, without normalization')\n",
    "\n",
    "    print(cm)\n",
    "\n",
    "    thresh = cm.max() / 2.\n",
    "    for i, j in itertools.product(range(cm.shape[0]), range(cm.shape[1])):\n",
    "        plt.text(j, i, cm[i, j],\n",
    "            horizontalalignment=\"center\",\n",
    "            color=\"white\" if cm[i, j] > thresh else \"black\")\n",
    "\n",
    "    plt.tight_layout()\n",
    "    plt.ylabel('True label')\n",
    "    plt.xlabel('Predicted label')\n",
    "labels = ['Normal','Fraud']\n",
    "\n",
    "plot_confusion_matrix(cm=confusion_matrix(y_true=y_test, y_pred=y_predict_binary), classes=labels, title='LSTM-Attention', normalize=False)"
   ]
  },
  {
   "cell_type": "markdown",
   "metadata": {},
   "source": [
    "## Model Performance Metrics"
   ]
  },
  {
   "cell_type": "code",
   "execution_count": 31,
   "metadata": {
    "colab": {
     "base_uri": "https://localhost:8080/"
    },
    "id": "eiN2cjwX4Dzp",
    "outputId": "86ee0069-2931-41b4-bbb3-90a6a3940a21"
   },
   "outputs": [
    {
     "data": {
      "text/html": [
       "<div>\n",
       "<style scoped>\n",
       "    .dataframe tbody tr th:only-of-type {\n",
       "        vertical-align: middle;\n",
       "    }\n",
       "\n",
       "    .dataframe tbody tr th {\n",
       "        vertical-align: top;\n",
       "    }\n",
       "\n",
       "    .dataframe thead th {\n",
       "        text-align: right;\n",
       "    }\n",
       "</style>\n",
       "<table border=\"1\" class=\"dataframe\">\n",
       "  <thead>\n",
       "    <tr style=\"text-align: right;\">\n",
       "      <th></th>\n",
       "      <th>Metric</th>\n",
       "      <th>Value</th>\n",
       "    </tr>\n",
       "  </thead>\n",
       "  <tbody>\n",
       "    <tr>\n",
       "      <th>0</th>\n",
       "      <td>Accuracy</td>\n",
       "      <td>0.975781</td>\n",
       "    </tr>\n",
       "    <tr>\n",
       "      <th>1</th>\n",
       "      <td>ROC AUC Score</td>\n",
       "      <td>0.971162</td>\n",
       "    </tr>\n",
       "    <tr>\n",
       "      <th>2</th>\n",
       "      <td>Precision (Class 0)</td>\n",
       "      <td>0.999266</td>\n",
       "    </tr>\n",
       "    <tr>\n",
       "      <th>3</th>\n",
       "      <td>Recall (Class 0)</td>\n",
       "      <td>0.976404</td>\n",
       "    </tr>\n",
       "    <tr>\n",
       "      <th>4</th>\n",
       "      <td>F1-Score (Class 0)</td>\n",
       "      <td>0.987703</td>\n",
       "    </tr>\n",
       "    <tr>\n",
       "      <th>5</th>\n",
       "      <td>Precision (Class 1)</td>\n",
       "      <td>0.118028</td>\n",
       "    </tr>\n",
       "    <tr>\n",
       "      <th>6</th>\n",
       "      <td>Recall (Class 1)</td>\n",
       "      <td>0.814918</td>\n",
       "    </tr>\n",
       "    <tr>\n",
       "      <th>7</th>\n",
       "      <td>F1-Score (Class 1)</td>\n",
       "      <td>0.206193</td>\n",
       "    </tr>\n",
       "  </tbody>\n",
       "</table>\n",
       "</div>"
      ],
      "text/plain": [
       "                Metric     Value\n",
       "0             Accuracy  0.975781\n",
       "1        ROC AUC Score  0.971162\n",
       "2  Precision (Class 0)  0.999266\n",
       "3     Recall (Class 0)  0.976404\n",
       "4   F1-Score (Class 0)  0.987703\n",
       "5  Precision (Class 1)  0.118028\n",
       "6     Recall (Class 1)  0.814918\n",
       "7   F1-Score (Class 1)  0.206193"
      ]
     },
     "execution_count": 31,
     "metadata": {},
     "output_type": "execute_result"
    }
   ],
   "source": [
    "utils.get_model_metrics_df(y_test, y_predict)"
   ]
  },
  {
   "cell_type": "markdown",
   "metadata": {},
   "source": [
    "## Save model"
   ]
  },
  {
   "cell_type": "code",
   "execution_count": null,
   "metadata": {
    "colab": {
     "base_uri": "https://localhost:8080/"
    },
    "id": "gLCxQgUtIV6A",
    "outputId": "ac8b52c7-0d1c-476b-f5d2-396947e122b7"
   },
   "outputs": [],
   "source": [
    "if SAVE_MODEL:\n",
    "    model.save(os.path.join(MODEL_PATH, model.name))\n",
    "    # model.save(os.path.join(MODEL_PATH, model.name}.h5'))"
   ]
  }
 ],
 "metadata": {
  "colab": {
   "collapsed_sections": [],
   "name": "LSTM_Models.ipynb",
   "provenance": []
  },
  "kernelspec": {
   "display_name": ".venv_xai_fraud_detection",
   "language": "python",
   "name": ".venv_xai_fraud_detection"
  },
  "language_info": {
   "codemirror_mode": {
    "name": "ipython",
    "version": 3
   },
   "file_extension": ".py",
   "mimetype": "text/x-python",
   "name": "python",
   "nbconvert_exporter": "python",
   "pygments_lexer": "ipython3",
   "version": "3.10.11"
  }
 },
 "nbformat": 4,
 "nbformat_minor": 4
}
